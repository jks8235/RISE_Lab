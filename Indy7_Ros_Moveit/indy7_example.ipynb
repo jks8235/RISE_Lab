{
 "metadata": {
  "language_info": {
   "codemirror_mode": {
    "name": "ipython",
    "version": 3
   },
   "file_extension": ".py",
   "mimetype": "text/x-python",
   "name": "python",
   "nbconvert_exporter": "python",
   "pygments_lexer": "ipython3",
   "version": "2.7.17-final"
  },
  "orig_nbformat": 2,
  "kernelspec": {
   "name": "python3",
   "display_name": "Python 2.7.17 64-bit",
   "metadata": {
    "interpreter": {
     "hash": "767d51c1340bd893661ea55ea3124f6de3c7a262a8b4abca0554b478b1e2ff90"
    }
   }
  }
 },
 "nbformat": 4,
 "nbformat_minor": 2,
 "cells": [
  {
   "source": [
    "# Connect to Indy by IndyDCP\n",
    "\n",
    "* **robot_ip**: IP address of robot (actually, STEP in IndyCB)\n",
    "* **name**: string represents robot model\n",
    "    * Indy7: \"NRMK-Indy7\"\n",
    "    * IndyRP2: \"NRMK-IndyRP2\"\n",
    "    \n",
    "\n",
    "* 1.Setting   \n",
    "* 2.Connect & Disnonnect\n",
    "* 3.Get robot status"
   ],
   "cell_type": "markdown",
   "metadata": {}
  },
  {
   "cell_type": "code",
   "execution_count": 1,
   "metadata": {},
   "outputs": [],
   "source": [
    "from indy_utils import indydcp_client as client\n",
    "from indy_utils.indy_program_maker import JsonProgramComponent\n",
    "\n",
    "import json\n",
    "import threading\n",
    "from time import sleep\n",
    "\n",
    "# Set robot (server) IP \n",
    "robot_ip = \"10.201.159.232\"  # Robot (Indy) IP\n",
    "\n",
    "# Set robot name\n",
    "name = \"NRMK-Indy7\"  # Robot name (Indy7)\n",
    "# name = \"NRMK-IndyRP2\"  # Robot name (IndyRP2)\n",
    "\n",
    "# Create class object\n",
    "indy = client.IndyDCPClient(robot_ip, name)"
   ]
  },
  {
   "cell_type": "code",
   "execution_count": 2,
   "metadata": {},
   "outputs": [
    {
     "output_type": "stream",
     "name": "stdout",
     "text": [
      "Connect: Server IP (10.201.159.232)\n"
     ]
    }
   ],
   "source": [
    "# Connect to robot\n",
    "indy.connect()\n",
    "\n",
    "# Disconnect with robot\n",
    "# recommanded for finishing program properly\n",
    "indy.disconnect()"
   ]
  },
  {
   "cell_type": "code",
   "execution_count": 3,
   "metadata": {},
   "outputs": [
    {
     "output_type": "stream",
     "name": "stdout",
     "text": [
      "Connect: Server IP (10.201.159.232)\n{'emergency': 0, 'collision': 0, 'zero': 1, 'ready': 1, 'home': 0, 'busy': 0, 'direct_teaching': 0, 'error': 0, 'teaching': 0, 'movedone': 1, 'resetting': 0}\n"
     ]
    }
   ],
   "source": [
    "indy.connect()\n",
    "\n",
    "status = indy.get_robot_status()\n",
    "print(status)\n",
    "\n",
    "indy.disconnect()"
   ]
  },
  {
   "source": [
    "# Examples of JSON Program maker using extended IndyDCP\n",
    "## Indy7 control code (Indy7 Control Code)\n"
   ],
   "cell_type": "markdown",
   "metadata": {}
  },
  {
   "source": [
    "### Get position data\n",
    "* __indy.get_joint_pos()__  : get current joint angle (degree)\n",
    "* __indy.get_task_pos()__  : get current task-space pose (meter, and degree)"
   ],
   "cell_type": "markdown",
   "metadata": {}
  },
  {
   "cell_type": "code",
   "execution_count": 4,
   "metadata": {},
   "outputs": [
    {
     "output_type": "stream",
     "name": "stdout",
     "text": [
      "Connect: Server IP (10.201.159.232)\n[-0.00027238830061985267, 0.0019067181043389686, 0.001225747352789337, 0.001196530785891168, 0.0044054088025993, -0.00021755105198021236]\n[-6.372758333837825e-05, -0.1864999999128923, 1.3279999973200038, -2.873509581650046e-08, -0.007674068409596878, 0.0005070198115096626]\n"
     ]
    }
   ],
   "source": [
    "indy.connect()\n",
    "\n",
    "print(indy.get_joint_pos())\n",
    "print(indy.get_task_pos())\n",
    "\n",
    "indy.disconnect()"
   ]
  },
  {
   "source": [
    "### Joint, Task Control (Joint, Task 제어하기)\n",
    "\n",
    "* **indy.go_home()** : go to home position\n",
    "* **indy.go_zero()** : go to zero position\n",
    "* **indy.joint_move_to(joint_pos)** : add waypoint using joint control - Absolute point (절대값) \n",
    "* **indy.joint_move_by(joint_pos)** : add waypoint using joint control - Relativ point (상대값) \n",
    "* **indy.task_move_to(task_pos)** : add waypoint using task control - Absolute point (절대값) \n",
    "* **indy.task_move_by(task_pos)** : add waypoint using task control - Relativ point (상대값) "
   ],
   "cell_type": "markdown",
   "metadata": {}
  },
  {
   "cell_type": "code",
   "execution_count": null,
   "metadata": {},
   "outputs": [],
   "source": [
    "## Zero, Home pose\n",
    "\n",
    "indy.connect()\n",
    "\n",
    "indy.go_zero()\n",
    "#indy.go_home()\n",
    "\n",
    "indy.disconnect()"
   ]
  },
  {
   "cell_type": "code",
   "execution_count": null,
   "metadata": {},
   "outputs": [],
   "source": [
    "##Joint 제어\n",
    "\n",
    "indy.connect()\n",
    "\n",
    "j_pos1 = indy.get_joint_pos()\n",
    "print(\"j_pos1\", j_pos1)\n",
    "\n",
    "\n",
    "#j_pos1[1] += 20  # move for Indy7\n",
    "#indy.joint_move_to(j_pos1)  # Move 6th joint\n",
    "\n",
    "j_pos_rel = [10, -10, 0, 0, 0, 20]  # move for Indy7\n",
    "indy.joint_move_by(j_pos_rel)\n",
    "\n",
    "\n",
    "indy.disconnect()"
   ]
  },
  {
   "cell_type": "code",
   "execution_count": null,
   "metadata": {},
   "outputs": [],
   "source": [
    "##Task 제어\n",
    "\n",
    "indy.connect()\n",
    "\n",
    "t_pos1 = indy.get_task_pos()\n",
    "print(\"t_pos1\", t_pos1)\n",
    "\n",
    "##t_pos1[2] += 1\n",
    "##indy.task_move_to(t_pos1)  # Move along z-axis\n",
    "\n",
    "t_pos_rel = [1, -2, 3, 0, 0, 0]\n",
    "indy.task_move_by(t_pos_rel)\n",
    "\n",
    "indy.disconnect()"
   ]
  },
  {
   "source": [
    "### Make Trajectory\n",
    "* **prog = JsonProgramComponent(policy=0, resume_time=2)** : setting Trajectory data\n",
    "    * policy: collision policy (0: keep pause, 1: resume after 'resume_time', 2: stop program, 3: no collision detection)\n",
    "    \n",
    "    \n",
    "* **prog.add_move_home()** : go to home position\n",
    "* **prog.add_move_zero()** : go to zero position\n",
    "* **prog.add_joint_move_to(joint_pos)** : add waypoint using joint control - Absolute point (절대값) \n",
    "* **prog.add_joint_move_by(joint_pos)** : add waypoint using joint control - Relativ point (상대값) \n",
    "* **prog.add_task_move_to(task_pos)** : add waypoint using task control - Absolute point (절대값) \n",
    "* **prog.add_task_move_by(task_pos)** : add waypoint using task control - Relativ point (상대값)\n",
    "\n",
    "\n",
    "* **prog.add_digital_out(idx=idx, val=0)** : joint, task를 구분하기 위한 digital bit 설정 (val 값 : joint = 0, task = 1)\n",
    "\n",
    "\n",
    "* **prog_json = prog.program_done()**  : finish to make program, and return JSON string to be sent to 'indy'\n",
    "* **indy.set_and_start_json_program(prog_json)** : start the made program\n",
    "* **indy.set_and_start_json_program(prog.program_done())**  : more simple way"
   ],
   "cell_type": "markdown",
   "metadata": {}
  },
  {
   "source": [
    "### Precautions (주의사항)\n",
    "\n",
    "* Trajectory를 만들때는 joint와 task를 구분해서 써야 한다.\n",
    "(한 Trajectory 상에 joint와 task를 섞어쓰기 위해서는 digital bit를 바꿔줘야 한다.)\n",
    "* add_move_home(), add_move_zero()는 joint제어로 분류된다."
   ],
   "cell_type": "markdown",
   "metadata": {}
  },
  {
   "cell_type": "code",
   "execution_count": null,
   "metadata": {},
   "outputs": [],
   "source": [
    "## Home, Zero 반복이동\n",
    "\n",
    "indy.connect()\n",
    "\n",
    "indy.set_joint_vel_level(3)\n",
    "\n",
    "prog = JsonProgramComponent(policy=1, resume_time=2)  # Init. prgoram\n",
    "\n",
    "prog.add_move_home()\n",
    "prog.add_move_zero()\n",
    "prog.add_move_home()\n",
    "prog.add_move_zero()\n",
    "\n",
    "prog_json = prog.program_done()    # Program end\n",
    "\n",
    "indy.set_and_start_json_program(prog_json) # Execute program\n",
    "\n",
    "indy.disconnect()"
   ]
  },
  {
   "cell_type": "code",
   "execution_count": null,
   "metadata": {},
   "outputs": [],
   "source": [
    "## Joint Trajectory config (Joint 제어)\n",
    "\n",
    "indy.connect()\n",
    "\n",
    "# add_joint_move(pos)\n",
    "# add_task_move(pos)\n",
    "\n",
    "vel = 5\n",
    "blend = 20\n",
    "\n",
    "j_pos1 = [0.00222450445506213, -34.99499612603537, -60.00065070538877, -0.000652653155940637, -85.00062243773765, -0.005275613010520149]\n",
    "j_pos2 = [0.7399428186338298, -87.25655043421288, 24.449029087036738, -3.217797609839321, -118.97317716391564, -0.0044054088025993]\n",
    "j_pos3 = [0.6791548295454993, -73.52736291807045, -35.52456438049046, 3.6427292021196704, 6.2422467222312275, -0.004351021039604247]\n",
    "j_pos4 = [-0.9590792064825013, -71.96308230566073, -34.78080812564795, 9.005471408957895, 55.15359708578643, -0.0036439801206685565]\n",
    "\n",
    "prog = JsonProgramComponent(policy=1, resume_time=3)  # Init. prgoram\n",
    "\n",
    "prog.add_joint_move_to(j_pos1, vel=vel, blend=blend)\n",
    "prog.add_joint_move_to(j_pos2, vel=vel, blend=blend)\n",
    "prog.add_joint_move_to(j_pos3, vel=vel, blend=blend)\n",
    "prog.add_joint_move_to(j_pos4, vel=vel, blend=blend)\n",
    "\n",
    "prog_json = prog.program_done()\n",
    "\n",
    "indy.set_and_start_json_program(prog_json) # Execute program\n",
    "\n",
    "indy.disconnect()"
   ]
  },
  {
   "cell_type": "code",
   "execution_count": null,
   "metadata": {},
   "outputs": [],
   "source": [
    "## Task Trajectory config (Task 제어)\n",
    "\n",
    "indy.connect()\n",
    "\n",
    "vel = 5\n",
    "blend = 20\n",
    "\n",
    "t_wp1 = [0.6910136725626225, -0.2123301970500489, 0.2583231171384601, -177.7962365761575, 0.9889072041064573, 179.2646142500768]\n",
    "t_wp2 = [0.9564666192625594, -0.2921623813989345, 0.4357075789683925, 67.59249069789438, -173.05076991945145, 77.77963364441038]\n",
    "t_wp3 = [0.7009320249592459, -0.24506788301261087, 0.3748936800814323, 2.5559736667629336, -178.07944812200918, 53.8743852989464]\n",
    "t_wp4 = [0.5597762859029639, -0.20633576407169446, 0.3283168775628519, -1.464505932654421, -179.1338746927122, 58.01384472142377]\n",
    "\n",
    "prog = JsonProgramComponent(policy=0, resume_time=2)                \n",
    "prog.add_task_move_to(t_wp1, vel=vel, blend=blend)\n",
    "prog.add_task_move_to(t_wp2, vel=vel, blend=blend)\n",
    "prog.add_task_move_to(t_wp3, vel=vel, blend=blend)\n",
    "prog.add_task_move_to(t_wp4, vel=vel, blend=blend)\n",
    "\n",
    "prog_json = prog.program_done()\n",
    "indy.set_and_start_json_program(prog_json)\n",
    "\n",
    "indy.disconnect()"
   ]
  },
  {
   "cell_type": "code",
   "execution_count": null,
   "metadata": {},
   "outputs": [],
   "source": [
    "# mix trajectory config (joint and task)\n",
    "indy.connect()\n",
    "\n",
    "vel = 5\n",
    "j_blend = 20\n",
    "t_blend = 0.2\n",
    "\n",
    "t_wp1 = [0.6067674966068215, -0.18649384650008538, 0.4100259354264202, 179.9982122370174, -0.009843770313927431, 179.99871942052945]\n",
    "t_wp2 = [0.713555177030334, -0.010827591112717484, 0.2858938880590304, -5.836662073283785, 162.80757095440694, 8.9730407449388]\n",
    "t_wp3 = [0.8071902738781609, -0.13292912970174506, 0.23895694055448075, -1.356536922079839, 153.53673284803128, 2.539941694447069]\n",
    "t_wp4 = [0.6552232283948026, -0.30083843519838194, 0.3082318964747058, -172.7388071704742, 0.42433374155690934, 174.41714512772282]\n",
    "\n",
    "j_wp1 = [-0.0, -35.005392279509024, -60.004146355246725, 0.001740408415841699, -85.00051366221166, 0.0011421430228961149]\n",
    "j_wp2 = [12.637455207258064, -41.954608002972805, -67.10617191535825, 5.899059937732443, -53.56841134553262, 0.0011421430228961149]\n",
    "j_wp3 = [3.565835243414491, -54.48969060724791, -54.60509245061052, 1.2845301864171639, -44.431049611311714, 0.0011421430228961149]\n",
    "j_wp4 = [-7.420765269886853, -49.14193649922844, -54.59564965618903, -7.475978738011012, -75.72152619315165, 0.0010877552599010618]\n",
    "\n",
    "prog = JsonProgramComponent(policy=0, resume_time=2)\n",
    "\n",
    "prog.add_move_home()  \n",
    "prog.add_joint_move_to(j_wp1, vel=vel) \n",
    "\n",
    "# Turns on digital output of port indices from 0 to 7 (0: OFF, 1: ON)\n",
    "for idx in range(0, 8):\n",
    "    prog.add_digital_out(idx=idx, val=1)\n",
    "\n",
    "# Wait for set time\n",
    "prog.add_wait(1)\n",
    "\n",
    "# Tool command of tool ID and its command\n",
    "# Tool should be first set up in Conty Application (Setting - Tool)\n",
    "# In Conty,add tool and set application (e.g. Pick & Place)\n",
    "# Edit Hold and Release Output and update the tool (refer the Indy manual)\n",
    "prog.add_endtool_do(type=0, value=0)\n",
    "prog.add_wait(1)\n",
    "prog.add_endtool_do(type=0, value=1)\n",
    "\n",
    "prog.add_task_move_to(t_wp2, vel=vel, blend=t_blend)\n",
    "prog.add_task_move_to(t_wp3, vel=vel, blend=t_blend)\n",
    "prog.add_task_move_to(t_wp4, vel=vel, blend=t_blend)\n",
    "\n",
    "# Turns off digital output of port indices from 0 to 7 (0: OFF, 1: ON)\n",
    "for idx in range(0, 8):\n",
    "    prog.add_digital_out(idx=idx, val=0)\n",
    "\n",
    "prog.add_stop()  # Stop program\n",
    "\n",
    "indy.set_and_start_json_program(prog.program_done())\n",
    "\n",
    "indy.disconnect()"
   ]
  }
 ]
}